{
 "cells": [
  {
   "cell_type": "code",
   "execution_count": 1,
   "metadata": {
    "pycharm": {
     "name": "#%%\n"
    }
   },
   "outputs": [],
   "source": [
    "#CONFIGURATION ----------------------------------------------------------------------------------------------------------\n",
    "\n",
    "DATABASE_URI=\"bolt://localhost:7687\";\n",
    "USER=\"neo4j\";\n",
    "DB_NAME=\"migrateddatabase\";\n",
    "PASSWORD=\"root\";\n",
    "\n",
    "#------------------------------------------------------------------------------------------------------------------------"
   ]
  },
  {
   "cell_type": "markdown",
   "metadata": {
    "pycharm": {
     "name": "#%% md\n"
    }
   },
   "source": [
    "# Notebook 3: Compute path properties\n",
    "\n",
    "Third part of the migration procedure: The defined properties are now computed.\n",
    "\n",
    "#\n"
   ]
  },
  {
   "cell_type": "code",
   "execution_count": 2,
   "metadata": {
    "pycharm": {
     "name": "#%%\n"
    }
   },
   "outputs": [],
   "source": [
    "#Neo4j connector class\n",
    "\n",
    "from neo4j import GraphDatabase\n",
    "# From https://neo4j.com/developer/python/\n",
    "\n",
    "class NeoConnector:\n",
    "    \n",
    "    def __init__(self, uri, user, pwd):\n",
    "        self.__uri = uri\n",
    "        self.__user = user\n",
    "        self.__pwd = pwd\n",
    "        self.__driver = None\n",
    "        self.__error_counter=0\n",
    "        try:\n",
    "            self.__driver = GraphDatabase.driver(self.__uri, auth=(self.__user, self.__pwd))\n",
    "        except Exception as e:\n",
    "            self.__error_counter=self.__error_counter+1\n",
    "            print(\"Failed to create the driver:\", e)\n",
    "        \n",
    "    def close(self):\n",
    "        if self.__driver is not None:\n",
    "            self.__driver.close()\n",
    "    def get_error_counter(self):\n",
    "        return self.__error_counter;\n",
    "    def query(self, query, db=DB_NAME):\n",
    "        assert self.__driver is not None, \"Driver not initialized!\"\n",
    "        session = None\n",
    "        response = None\n",
    "        try: \n",
    "            session = self.__driver.session(database=db) if db is not None else self.__driver.session() \n",
    "            response = list(session.run(query))\n",
    "        except Exception as e:\n",
    "            self.__error_counter=self.__error_counter+1\n",
    "            print(\"Query failed:\", e)\n",
    "        finally: \n",
    "            if session is not None:\n",
    "                session.close()\n",
    "        return response"
   ]
  },
  {
   "cell_type": "code",
   "execution_count": 3,
   "metadata": {
    "pycharm": {
     "name": "#%%\n"
    }
   },
   "outputs": [],
   "source": [
    "connector=NeoConnector(uri=DATABASE_URI,user=USER,pwd=PASSWORD);\n",
    " "
   ]
  },
  {
   "cell_type": "markdown",
   "metadata": {
    "pycharm": {
     "name": "#%% md\n"
    }
   },
   "source": [
    "Setting to 0 all properties:"
   ]
  },
  {
   "cell_type": "code",
   "execution_count": 4,
   "metadata": {
    "pycharm": {
     "name": "#%%\n"
    }
   },
   "outputs": [
    {
     "data": {
      "text/plain": [
       "[]"
      ]
     },
     "execution_count": 4,
     "metadata": {},
     "output_type": "execute_result"
    }
   ],
   "source": [
    "#Resetting weights:\n",
    "connector.query(\"MATCH (n) SET n._ws_acc_path=0\")\n",
    "connector.query(\"MATCH (n) SET n._ws_res_path=0\")\n",
    "\n",
    "connector.query(\"MATCH (n) SET n._md_acc_path=0\")\n",
    "connector.query(\"MATCH (n) SET n._md_res_path=0\")\n",
    "\n",
    " \n",
    "connector.query(\"MATCH (n) SET n._ws_acc_dep_all=0\")\n",
    "connector.query(\"MATCH (n) SET n._ws_res_dep_all=0\")\n",
    "\n",
    "connector.query(\"MATCH (n) SET n._md_acc_dep_all=0\")\n",
    "connector.query(\"MATCH (n) SET n._md_res_dep_all=0\")\n",
    "\n",
    "\n",
    "connector.query(\"MATCH (n) SET n._ws_acc_dep_atleastone=0\")\n",
    "connector.query(\"MATCH (n) SET n._ws_res_dep_atleastone=0\")\n",
    "\n",
    "connector.query(\"MATCH (n) SET n._md_acc_dep_atleastone=0\")\n",
    "connector.query(\"MATCH (n) SET n._md_res_dep_atleastone=0\")\n",
    "\n"
   ]
  },
  {
   "cell_type": "markdown",
   "metadata": {
    "pycharm": {
     "name": "#%% md\n"
    }
   },
   "source": [
    "Count number of MAIL_DOMAIN paths for each node:"
   ]
  },
  {
   "cell_type": "code",
   "execution_count": 5,
   "metadata": {
    "pycharm": {
     "name": "#%%\n"
    }
   },
   "outputs": [
    {
     "name": "stdout",
     "output_type": "stream",
     "text": [
      "Processing maiL_domain 0 / 40\n",
      "Processing maiL_domain 1 / 40\n",
      "Processing maiL_domain 2 / 40\n",
      "Processing maiL_domain 3 / 40\n",
      "Processing maiL_domain 4 / 40\n",
      "Processing maiL_domain 5 / 40\n",
      "Processing maiL_domain 6 / 40\n",
      "Processing maiL_domain 7 / 40\n",
      "Processing maiL_domain 8 / 40\n",
      "Processing maiL_domain 9 / 40\n",
      "Processing maiL_domain 10 / 40\n",
      "Processing maiL_domain 11 / 40\n",
      "Processing maiL_domain 12 / 40\n",
      "Processing maiL_domain 13 / 40\n",
      "Processing maiL_domain 14 / 40\n",
      "Processing maiL_domain 15 / 40\n",
      "Processing maiL_domain 16 / 40\n",
      "Processing maiL_domain 17 / 40\n",
      "Processing maiL_domain 18 / 40\n",
      "Processing maiL_domain 19 / 40\n",
      "Processing maiL_domain 20 / 40\n",
      "Processing maiL_domain 21 / 40\n",
      "Processing maiL_domain 22 / 40\n",
      "Processing maiL_domain 23 / 40\n",
      "Processing maiL_domain 24 / 40\n",
      "Processing maiL_domain 25 / 40\n",
      "Processing maiL_domain 26 / 40\n",
      "Processing maiL_domain 27 / 40\n",
      "Processing maiL_domain 28 / 40\n",
      "Processing maiL_domain 29 / 40\n",
      "Processing maiL_domain 30 / 40\n",
      "Processing maiL_domain 31 / 40\n",
      "Processing maiL_domain 32 / 40\n",
      "Processing maiL_domain 33 / 40\n",
      "Processing maiL_domain 34 / 40\n",
      "Processing maiL_domain 35 / 40\n",
      "Processing maiL_domain 36 / 40\n",
      "Processing maiL_domain 37 / 40\n",
      "Processing maiL_domain 38 / 40\n",
      "Processing maiL_domain 39 / 40\n"
     ]
    }
   ],
   "source": [
    " \n",
    "mail_domains=connector.query(\"match (n:MAIL_DOMAIN) RETURN n.name AS name LIMIT 40\");\n",
    "\n",
    "for index,mail_domain in enumerate(mail_domains):\n",
    "  print(\"Processing maiL_domain \"+str(index)+ \" / \"+str(len(mail_domains)))\n",
    "  res=connector.query(\"\"\"match (d:MAIL_DOMAIN) \n",
    "      MATCH (end:AUTONOMOUS_SYSTEM)\n",
    "      WHERE d.name=\\\"\"\"\"+mail_domain[\"name\"]+\"\"\"\\\"\n",
    "      CALL apoc.path.expandConfig(d, {relationshipFilter: \"BELONG>|CNAME>|COMPOSED_BY>|LOCATED>|MANAGED_BY>|MAPPED_IN>|PARENT>\",minLevel:1, terminatorNodes: [end],uniqueness:'NODE_PATH'})\n",
    "      YIELD path\n",
    "      WITH d as root,collect(path) as paths, apoc.coll.toSet(apoc.coll.flatten(collect(nodes(path)))) as nodes\n",
    "\n",
    "      FOREACH (n IN nodes| SET n.cnt_buffer_access=0,n.cnt_buffer_resolution=0)\n",
    "\n",
    "      WITH root, paths, nodes\n",
    "\n",
    "      UNWIND paths as path\n",
    "            WITH *,any(node IN NODES(path) WHERE any(label in LABELS(node) WHERE label=\"NAME_SERVER\")) AS isRes\n",
    "            FOREACH (n IN NODES(path)|\n",
    "                  SET n._md_acc_path = CASE isRes WHEN false THEN  n._md_acc_path+1 ELSE n._md_acc_path END,\n",
    "                      n.cnt_buffer_access = CASE isRes WHEN false THEN  n.cnt_buffer_access+1 ELSE n.cnt_buffer_access END,\n",
    "                      n._md_res_path= CASE isRes WHEN true THEN  n._md_res_path+1 ELSE n._md_res_path END,\n",
    "                      n.cnt_buffer_resolution= CASE isRes WHEN true THEN  n.cnt_buffer_resolution+1 ELSE n.cnt_buffer_resolution END\n",
    "            )\n",
    "\n",
    "            WITH *, size(NODES(path)) AS length\n",
    "\n",
    "      WITH root, nodes, collect(path) AS paths, collect(length) as lengths\n",
    "            \n",
    "      FOREACH (n IN nodes|\n",
    "         SET n._md_res_dep_all= CASE WHEN n.cnt_buffer_resolution=root._md_res_path AND NOT(n.cnt_buffer_resolution=0) \n",
    "                                 THEN n._md_res_dep_all+1\n",
    "                                 ELSE n._md_res_dep_all\n",
    "                            END\n",
    "         SET n._md_acc_dep_all= CASE WHEN  n.cnt_buffer_access=root._md_acc_path AND NOT (n.cnt_buffer_access=0) \n",
    "                                 THEN n._md_acc_dep_all+1\n",
    "                                 ELSE n._md_acc_dep_all\n",
    "                            END\n",
    "\n",
    "\n",
    "         SET n._md_res_dep_atleastone= CASE WHEN NOT(n.cnt_buffer_resolution=0) \n",
    "                                     THEN n._md_res_dep_atleastone+1\n",
    "                                     ELSE n._md_res_dep_atleastone\n",
    "                                END\n",
    "         SET n._md_acc_dep_atleastone= CASE WHEN NOT(n.cnt_buffer_access=0) \n",
    "                                     THEN n._md_acc_dep_atleastone+1\n",
    "                                     ELSE n._md_acc_dep_atleastone\n",
    "                                END\n",
    "      )\n",
    "\n",
    "      FOREACH (n IN nodes| REMOVE n.cnt_buffer_access,n.cnt_buffer_resolution)\n",
    "\n",
    "      RETURN lengths\n",
    "      \n",
    "      \n",
    "      \"\"\");\n",
    " "
   ]
  },
  {
   "cell_type": "markdown",
   "metadata": {
    "pycharm": {
     "name": "#%% md\n"
    }
   },
   "source": [
    "Count number of WEB_SITE paths for each node:"
   ]
  },
  {
   "cell_type": "code",
   "execution_count": 6,
   "metadata": {
    "pycharm": {
     "name": "#%%\n"
    }
   },
   "outputs": [],
   "source": [
    " \n",
    "web_sites=connector.query(\"match (n:WEB_SITE) RETURN n.name AS name\");\n",
    "\n",
    "for index,web_site in enumerate(web_sites):\n",
    "  connector.query(\"\"\"match (d:WEB_SITE) \n",
    "      MATCH (end:AUTONOMOUS_SYSTEM)\n",
    "      WHERE d.name=\\\"\"\"\"+web_site[\"name\"]+\"\"\"\\\"\n",
    "      CALL apoc.path.expandConfig(d, {relationshipFilter: \"BELONG>|CNAME>|COMPOSED_BY>|LOCATED>|MANAGED_BY>|MAPPED_IN>|PARENT>\",minLevel:1,  terminatorNodes: [end],uniqueness:'NODE_PATH'})\n",
    "      YIELD path\n",
    "      WITH d as root,collect(path) as paths, apoc.coll.toSet(apoc.coll.flatten(collect(nodes(path)))) as nodes\n",
    "\n",
    "      FOREACH (n IN nodes| SET n.cnt_buffer_access=0,n.cnt_buffer_resolution=0)\n",
    "\n",
    "      WITH root, paths, nodes\n",
    "\n",
    "      UNWIND paths as path\n",
    "            WITH *,any(node IN NODES(path) WHERE any(label in LABELS(node) WHERE label=\"NAME_SERVER\")) AS isRes\n",
    "            FOREACH (n IN NODES(path)|\n",
    "                  SET n._ws_acc_path = CASE isRes WHEN false THEN  n._ws_acc_path+1 ELSE n._ws_acc_path END,\n",
    "                      n.cnt_buffer_access = CASE isRes WHEN false THEN  n.cnt_buffer_access+1 ELSE n.cnt_buffer_access END,\n",
    "                      n._ws_res_path= CASE isRes WHEN true THEN  n._ws_res_path+1 ELSE n._ws_res_path END,\n",
    "                      n.cnt_buffer_resolution= CASE isRes WHEN true THEN  n.cnt_buffer_resolution+1 ELSE n.cnt_buffer_resolution END\n",
    "            )\n",
    "      WITH root, nodes, collect(path) AS paths\n",
    "            \n",
    "      FOREACH (n IN nodes|\n",
    "         SET n._ws_res_dep_all= CASE WHEN n.cnt_buffer_resolution=root._ws_res_path AND NOT(n.cnt_buffer_resolution=0) \n",
    "                                 THEN n._ws_res_dep_all+1\n",
    "                                 ELSE n._ws_res_dep_all\n",
    "                            END\n",
    "         SET n._ws_acc_dep_all= CASE WHEN  n.cnt_buffer_access=root._ws_acc_path AND NOT (n.cnt_buffer_access=0) \n",
    "                                 THEN n._ws_acc_dep_all+1\n",
    "                                 ELSE n._ws_acc_dep_all\n",
    "                            END\n",
    "         SET n._ws_res_dep_atleastone= CASE WHEN NOT(n.cnt_buffer_resolution=0) \n",
    "                                     THEN n._ws_res_dep_atleastone+1\n",
    "                                     ELSE n._ws_res_dep_atleastone\n",
    "                                END\n",
    "         SET n._ws_acc_dep_atleastone= CASE WHEN NOT(n.cnt_buffer_access=0) \n",
    "                                     THEN n._ws_acc_dep_atleastone+1\n",
    "                                     ELSE n._ws_acc_dep_atleastone\n",
    "                                END\n",
    "      )\n",
    "\n",
    "      FOREACH (n IN nodes| REMOVE n.cnt_buffer_access,n.cnt_buffer_resolution)\"\"\");\n",
    "      \n",
    "  print(\"Processed web_site \"+web_site[\"name\"]+\" [number: \"+str(index)+\"]\");"
   ]
  },
  {
   "cell_type": "markdown",
   "metadata": {
    "pycharm": {
     "name": "#%% md\n"
    }
   },
   "source": [
    "Set total properties:"
   ]
  },
  {
   "cell_type": "code",
   "execution_count": 7,
   "metadata": {
    "pycharm": {
     "name": "#%%\n"
    }
   },
   "outputs": [],
   "source": [
    "connector.query(\"MATCH (n) SET n._ws_path=n._ws_acc_path+n._ws_res_path\");\n",
    "connector.query(\"MATCH (n) SET n._md_path=n._md_acc_path+n._md_res_path\");\n",
    "connector.query(\"MATCH (n) SET n._ws_dep_all=n._ws_acc_dep_all+n._ws_res_dep_all\");\n",
    "connector.query(\"MATCH (n) SET n._md_dep_all=n._md_acc_dep_all+n._md_res_dep_all\");"
   ]
  },
  {
   "cell_type": "markdown",
   "metadata": {
    "pycharm": {
     "name": "#%% md\n"
    }
   },
   "source": [
    "Numero di path calcolati per il database:"
   ]
  },
  {
   "cell_type": "code",
   "execution_count": 8,
   "metadata": {
    "pycharm": {
     "name": "#%%\n"
    }
   },
   "outputs": [],
   "source": [
    "acc_path=connector.query(\"MATCH (n) WHERE n:WEB_SITE OR n:MAIL_DOMAIN RETURN SUM(n._ws_acc_path+n._md_acc_path) AS acc_path\");\n",
    "res_path=connector.query(\"MATCH (n) WHERE n:WEB_SITE OR n:MAIL_DOMAIN RETURN SUM(n._ws_res_path+n._md_res_path) AS res_path\");"
   ]
  },
  {
   "cell_type": "code",
   "execution_count": 9,
   "metadata": {
    "pycharm": {
     "name": "#%%\n"
    }
   },
   "outputs": [
    {
     "name": "stdout",
     "output_type": "stream",
     "text": [
      "[<Record acc_path=62>]\n",
      "[<Record res_path=6369>]\n"
     ]
    }
   ],
   "source": [
    "print(acc_path);\n",
    "print(res_path);"
   ]
  }
 ],
 "metadata": {
  "kernelspec": {
   "display_name": "Python 3.10.1 64-bit",
   "language": "python",
   "name": "python3"
  },
  "language_info": {
   "codemirror_mode": {
    "name": "ipython",
    "version": 3
   },
   "file_extension": ".py",
   "mimetype": "text/x-python",
   "name": "python",
   "nbconvert_exporter": "python",
   "pygments_lexer": "ipython3",
   "version": "3.10.1"
  },
  "orig_nbformat": 4,
  "vscode": {
   "interpreter": {
    "hash": "369f2c481f4da34e4445cda3fffd2e751bd1c4d706f27375911949ba6bb62e1c"
   }
  }
 },
 "nbformat": 4,
 "nbformat_minor": 2
}