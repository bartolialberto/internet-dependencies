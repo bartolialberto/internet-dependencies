{
 "cells": [
  {
   "cell_type": "markdown",
   "metadata": {},
   "source": [
    "# Notebook 2: Import CSV in Neo4j\n",
    "\n",
    "Second part of the migration procedure. It consists in using the previously created CSV files to populate the Neo4j database.\n",
    "\n",
    "<hr>\n",
    "\n",
    "Configure the variables listed below and run the full notebook:\n",
    "\n",
    "\n",
    "- **CSV_SUB_DIR** : the name of the folder relative to IMPORT_NEO_FOLDER where csv files will be placed by this notebook (it must be the same variable configured in notebook 1)\n",
    "- **DATABASE_URI** : URI of the Neo4j database. The port 7687 is used by default by Neo4j; hence, if the database is running locally, URI will be \"bolt://localhost:7687\"\n",
    "- **DB_NAME** : the name of the SQLite database (that will be fetched from the current directory, i.e., the one where this notebook is located)\n",
    "- **USER** : Neo4j username\n",
    "- **PASSWORD**: Neo4j password\n",
    "\n",
    "<hr>\n",
    "\n",
    " ⚠ The software uses Neo4j APOC library functionality. Unfortunately this library is not installed together with Neo4j desktop.\n",
    "APOC can be installed inside Neo4j Desktop. Installation instructions can be found in the [Neo4j documentation](https://neo4j.com/labs/apoc/4.1/installation/).\n"
   ]
  },
  {
   "cell_type": "code",
   "execution_count": 1,
   "metadata": {},
   "outputs": [],
   "source": [
    "import pandas as pd;"
   ]
  },
  {
   "cell_type": "code",
   "execution_count": 2,
   "metadata": {},
   "outputs": [],
   "source": [
    "#CONFIGURATION ----------------------------------------------------------------------------------------------------------\n",
    "\n",
    "CSV_SUB_DIR=\"entities\" #the same defined in Notebook 1\n",
    "DATABASE_URI=\"bolt://localhost:7687\";\n",
    "DB_NAME=\"migrateddatabase\"; #WARNING! After the selection of a database, all its contents will be deleted!\n",
    "USER=\"neo4j\";\n",
    "PASSWORD=\"root\";\n",
    "\n",
    "#------------------------------------------------------------------------------------------------------------------------"
   ]
  },
  {
   "cell_type": "code",
   "execution_count": 3,
   "metadata": {},
   "outputs": [],
   "source": [
    "#Neo4j connector class\n",
    "\n",
    "from neo4j import GraphDatabase\n",
    "# From https://neo4j.com/developer/python/\n",
    "\n",
    "class NeoConnector:\n",
    "    \n",
    "    def __init__(self, uri, user, pwd):\n",
    "        self.__uri = uri\n",
    "        self.__user = user\n",
    "        self.__pwd = pwd\n",
    "        self.__driver = None\n",
    "        try:\n",
    "            self.__driver = GraphDatabase.driver(self.__uri, auth=(self.__user, self.__pwd))\n",
    "        except Exception as e:\n",
    "            print(\"Failed to create the driver:\", e)\n",
    "        \n",
    "    def close(self):\n",
    "        if self.__driver is not None:\n",
    "            self.__driver.close()\n",
    "        \n",
    "    def query(self, query, db=DB_NAME):\n",
    "        assert self.__driver is not None, \"Driver not initialized!\"\n",
    "        session = None\n",
    "        response = None\n",
    "        try: \n",
    "            session = self.__driver.session(database=db) if db is not None else self.__driver.session() \n",
    "            response = list(session.run(query))\n",
    "        except Exception as e:\n",
    "            print(\"Query failed:\", e)\n",
    "        finally: \n",
    "            if session is not None:\n",
    "                session.close()\n",
    "        return response\n",
    "    def load_node_web_site_csv(self):\n",
    "        query='''\n",
    "                LOAD CSV WITH HEADERS FROM \"file:///'''+CSV_SUB_DIR+'''/node_web_site.csv\" AS row\n",
    "                MERGE (w:WEB_SITE {name:row.url_id, domain_name_id:row.domain_name_id})\n",
    "                RETURN count(w)'''\n",
    "        return self.query(query);\n",
    "    def load_node_landing_name_csv(self):\n",
    "        query='''\n",
    "                LOAD CSV WITH HEADERS FROM \"file:///'''+CSV_SUB_DIR+'''/node_landing_name.csv\" AS row\n",
    "                MERGE (w:WEB_SERVER {name:row.domain_name, landing_url:row.landing_url, landing_https:row.landing_https})\n",
    "                RETURN count(w)''';\n",
    "        return self.query(query);\n",
    "    def load_node_network_csv(self):\n",
    "        query='''\n",
    "                LOAD CSV WITH HEADERS FROM \"file:///'''+CSV_SUB_DIR+'''/node_network.csv\" AS row\n",
    "                MERGE (w:NETWORK {name:row.ip_network_id,roa:row.state})\n",
    "                RETURN count(w)''';\n",
    "        return self.query(query);\n",
    "    def load_node_name_server_csv(self):\n",
    "        query='''\n",
    "                LOAD CSV WITH HEADERS FROM \"file:///'''+CSV_SUB_DIR+'''/node_name_server.csv\" AS row\n",
    "                MERGE (ns:NAME_SERVER {name:row.name_id})\n",
    "                RETURN count(ns)''';\n",
    "        return self.query(query);\n",
    "    def load_node_zone_csv(self): \n",
    "        query='''\n",
    "                LOAD CSV WITH HEADERS FROM \"file:///'''+CSV_SUB_DIR+'''/node_zone.csv\" AS row\n",
    "                CREATE (ns:ZONE {name:row.name})\n",
    "                RETURN count(ns)''';\n",
    "        return self.query(query);   \n",
    "    def load_node_zone_csv_old(self):\n",
    "        query='''\n",
    "                LOAD CSV WITH HEADERS FROM \"file:///'''+CSV_SUB_DIR+'''/node_zone.csv\" AS row\n",
    "                MERGE (ns:ZONE {name:row.name})\n",
    "                RETURN count(ns)''';\n",
    "        return self.query(query);   \n",
    "    def load_node_aut_sys_csv(self):\n",
    "        query='''\n",
    "                LOAD CSV WITH HEADERS FROM \"file:///'''+CSV_SUB_DIR+'''/node_aut_sys.csv\" AS row\n",
    "                MERGE (as:AUTONOMOUS_SYSTEM {name:row.number,description:row.description,country_code:row.country_code})\n",
    "                RETURN count(as)''';\n",
    "        return self.query(query); \n",
    "    def load_node_mail_domain_csv(self):\n",
    "        query='''\n",
    "                LOAD CSV WITH HEADERS FROM \"file:///'''+CSV_SUB_DIR+'''/node_mail_domain.csv\" AS row\n",
    "                MERGE (md:MAIL_DOMAIN {name:row.name_id})\n",
    "                RETURN count(md)''';\n",
    "        return self.query(query);\n",
    "    def load_node_mail_server_csv(self):\n",
    "        query='''\n",
    "                LOAD CSV WITH HEADERS FROM \"file:///'''+CSV_SUB_DIR+'''/node_mail_server.csv\" AS row\n",
    "                MERGE (ms:MAIL_SERVER {name:row.name_id})\n",
    "                RETURN count(ms)''';\n",
    "        return self.query(query);                \n",
    "    def load_rel_land_csv(self):\n",
    "        query='''\n",
    "                LOAD CSV WITH HEADERS FROM \"file:///'''+CSV_SUB_DIR+'''/rel_land.csv\" AS row\n",
    "                MATCH (w:WEB_SITE {name:row.url_id})\n",
    "                MATCH (l:WEB_SERVER {landing_url:row.landing_url})\n",
    "                MERGE (w)-[:MAPPED_IN {from_https:row.starting_https, to_https:row.landing_https,landing_url:l.landing_url}]->(l)\n",
    "                RETURN count(w)''';\n",
    "        return self.query(query);\n",
    "    def load_rel_cname_ln_csv(self):\n",
    "        query='''\n",
    "                LOAD CSV WITH HEADERS FROM \"file:///'''+CSV_SUB_DIR+'''/rel_cname_ln.csv\" AS row\n",
    "                MATCH (l1:WEB_SERVER {name:row.name_1})\n",
    "                MATCH (l2:WEB_SERVER {name:row.name_2})\n",
    "                MERGE (l1)-[:CNAME]->(l2)\n",
    "                RETURN count(l1)''';\n",
    "        return self.query(query);\n",
    "    def load_rel_located_ln_csv(self):\n",
    "        query='''\n",
    "                LOAD CSV WITH HEADERS FROM \"file:///'''+CSV_SUB_DIR+'''/rel_located_ln.csv\" AS row\n",
    "                MATCH (l:WEB_SERVER {name:row.name_id})\n",
    "                MATCH (n:NETWORK {name:row.ip_network_id})\n",
    "                MERGE (l)-[:LOCATED {ip_address:row.ip_address_id}]->(n)\n",
    "                RETURN count(l)''';\n",
    "        return self.query(query);\n",
    "    def load_rel_belong_ns_csv(self):\n",
    "        query='''\n",
    "                LOAD CSV WITH HEADERS FROM \"file:///'''+CSV_SUB_DIR+'''/rel_belong_ns.csv\" AS row\n",
    "                CREATE (ns:NAME_SERVER {name:row.ns_name})-[:BELONG]->(z:ZONE {name:row.ns_zone})\n",
    "                RETURN count(ns)''';\n",
    "        return self.query(query);\n",
    "    def load_rel_belong_ns_csv_old(self):\n",
    "        query='''\n",
    "                LOAD CSV WITH HEADERS FROM \"file:///'''+CSV_SUB_DIR+'''/rel_belong_ns.csv\" AS row\n",
    "                MATCH (ns:NAME_SERVER {name:row.ns_name})\n",
    "                MATCH (z:ZONE {name:row.ns_zone})\n",
    "                MERGE (ns)-[:BELONG]->(z)\n",
    "                RETURN count(ns)''';\n",
    "        return self.query(query);\n",
    "\n",
    "    def load_rel_belong_ms_csv(self): \n",
    "        query='''\n",
    "        LOAD CSV WITH HEADERS FROM \"file:///'''+CSV_SUB_DIR+'''/rel_belong_ms.csv\" AS row\n",
    "        CREATE (ms:MAIL_SERVER {name:row.ms_name})-[:BELONG]->(z:ZONE {name:row.ms_zone})\n",
    "        RETURN count(ms)''';\n",
    "        return self.query(query);\n",
    "\n",
    "    def load_rel_belong_ms_csv_old(self):\n",
    "        query='''\n",
    "                LOAD CSV WITH HEADERS FROM \"file:///'''+CSV_SUB_DIR+'''/rel_belong_ms.csv\" AS row\n",
    "                MATCH (ms:MAIL_SERVER {name:row.ms_name})\n",
    "                MATCH (z:ZONE {name:row.ms_zone})\n",
    "                MERGE (ms)-[:BELONG]->(z)\n",
    "                RETURN count(ms)''';\n",
    "        return self.query(query);\n",
    "\n",
    "    def load_rel_belong_md_csv(self): \n",
    "        query='''\n",
    "        LOAD CSV WITH HEADERS FROM \"file:///'''+CSV_SUB_DIR+'''/rel_belong_md.csv\" AS row\n",
    "        CREATE (md:MAIL_DOMAIN {name:row.md_name})-[:BELONG]->(z:ZONE {name:row.md_zone})\n",
    "        RETURN count(md)''';\n",
    "        return self.query(query);\n",
    "\n",
    "    def load_rel_belong_md_csv_old(self):\n",
    "        query='''\n",
    "                LOAD CSV WITH HEADERS FROM \"file:///'''+CSV_SUB_DIR+'''/rel_belong_md.csv\" AS row\n",
    "                MATCH (md:MAIL_DOMAIN {name:row.md_name})\n",
    "                MATCH (z:ZONE {name:row.md_zone})\n",
    "                MERGE (md)-[:BELONG]->(z)\n",
    "                RETURN count(md)''';\n",
    "        return self.query(query);\n",
    "    def load_rel_belong_ln_csv(self):\n",
    "        query='''\n",
    "                LOAD CSV WITH HEADERS FROM \"file:///'''+CSV_SUB_DIR+'''/rel_belong_ln.csv\" AS row\n",
    "                MATCH (ln:WEB_SERVER {name:row.ln_name})\n",
    "                MATCH (z:ZONE {name:row.ln_zone})\n",
    "                MERGE (ln)-[:BELONG]->(z)\n",
    "                RETURN count(ln)''';\n",
    "        return self.query(query);\n",
    "    def load_rel_located_ns_csv(self):\n",
    "        query='''\n",
    "        LOAD CSV WITH HEADERS FROM \"file:///'''+CSV_SUB_DIR+'''/rel_located_ns.csv\" AS row\n",
    "        CREATE (ns:NAME_SERVER {name:row.name_id})-[:LOCATED{ip_address:row.ip_address_id}]->(n:NETWORK {name:row.ip_network_id})\n",
    "        RETURN count(ns)''';\n",
    "        return self.query(query);\n",
    "    def load_rel_located_ns_csv_old(self):\n",
    "        query='''\n",
    "                LOAD CSV WITH HEADERS FROM \"file:///'''+CSV_SUB_DIR+'''/rel_located_ns.csv\" AS row\n",
    "                MATCH (ns:NAME_SERVER {name:row.name_id})\n",
    "                MATCH (n:NETWORK {name:row.ip_network_id})\n",
    "                MERGE (ns)-[:LOCATED{ip_address:row.ip_address_id}]->(n)\n",
    "                RETURN count(ns)''';\n",
    "        return self.query(query);\n",
    "\n",
    "    def load_rel_located_ms_csv(self):\n",
    "        query='''\n",
    "            LOAD CSV WITH HEADERS FROM \"file:///'''+CSV_SUB_DIR+'''/rel_located_ms.csv\" AS row\n",
    "            CREATE (ms:MAIL_SERVER {name:row.name_id})-[:LOCATED{ip_address:row.ip_address_id}]->(n:NETWORK {name:row.ip_network_id})\n",
    "            RETURN count(ms)''';\n",
    "        return self.query(query);\n",
    "\n",
    "    def load_rel_located_ms_csv_old(self): \n",
    "        query='''\n",
    "                LOAD CSV WITH HEADERS FROM \"file:///'''+CSV_SUB_DIR+'''/rel_located_ms.csv\" AS row\n",
    "                MATCH (ns:MAIL_SERVER {name:row.name_id})\n",
    "                MATCH (n:NETWORK {name:row.ip_network_id})\n",
    "                MERGE (ns)-[:LOCATED{ip_address:row.ip_address_id}]->(n)\n",
    "                RETURN count(ns)''';\n",
    "        return self.query(query);\n",
    "    def load_rel_cname_ns_csv(self):\n",
    "        query='''\n",
    "                LOAD CSV WITH HEADERS FROM \"file:///'''+CSV_SUB_DIR+'''/rel_cname_ns.csv\" AS row\n",
    "                MATCH (ns1:NAME_SERVER {name:row.name_1})\n",
    "                MATCH (ns2:NAME_SERVER {name:row.name_2})\n",
    "                MERGE (ns1)-[:CNAME]->(ns2)\n",
    "                RETURN count(ns1)''';\n",
    "        return self.query(query);\n",
    "    def load_rel_cname_ms_csv(self):\n",
    "        query='''\n",
    "                LOAD CSV WITH HEADERS FROM \"file:///'''+CSV_SUB_DIR+'''/rel_cname_ms.csv\" AS row\n",
    "                MATCH (ns1:MAIL_SERVER {name:row.name_1})\n",
    "                MATCH (ns2:MAIL_SERVER {name:row.name_2})\n",
    "                MERGE (ns1)-[:CNAME]->(ns2)\n",
    "                RETURN count(ns1)''';\n",
    "        return self.query(query);\n",
    "    def load_rel_managed_csv(self):  \n",
    "        query='''\n",
    "                LOAD CSV WITH HEADERS FROM \"file:///'''+CSV_SUB_DIR+'''/rel_managed.csv\" AS row\n",
    "                CREATE (n:NETWORK {name:row.ip_network_id})-[:MANAGED_BY]->(as:AUTONOMOUS_SYSTEM {name:row.number})\n",
    "                RETURN count(n)''';\n",
    "        return self.query(query);\n",
    "\n",
    "\n",
    "    def load_rel_managed_csv_old(self):\n",
    "        query='''\n",
    "                LOAD CSV WITH HEADERS FROM \"file:///'''+CSV_SUB_DIR+'''/rel_managed.csv\" AS row\n",
    "                MATCH (n:NETWORK {name:row.ip_network_id})\n",
    "                MATCH (as:AUTONOMOUS_SYSTEM {name:row.number})\n",
    "                MERGE (n)-[:MANAGED_BY]->(as)\n",
    "                RETURN count(n)''';\n",
    "        return self.query(query);\n",
    "\n",
    "    def load_rel_composed_by_csv(self):\n",
    "        query='''\n",
    "                LOAD CSV WITH HEADERS FROM \"file:///'''+CSV_SUB_DIR+'''/rel_composed_by.csv\" AS row\n",
    "                CREATE (z:ZONE {name:row.zone_name})-[:COMPOSED_BY]->(ns:NAME_SERVER {name:row.ns_name})\n",
    "                RETURN count(z)''';\n",
    "        return self.query(query);\n",
    "    def load_rel_depend_csv(self):\n",
    "        query='''\n",
    "                LOAD CSV WITH HEADERS FROM \"file:///'''+CSV_SUB_DIR+'''/rel_depend.csv\" AS row\n",
    "                CREATE (z1:ZONE {name:row.name})-[:DEPEND]->(z2:ZONE {name:row.dependency_id})\n",
    "                RETURN count(z1)''';\n",
    "        return self.query(query);\n",
    "    def load_rel_parent_csv(self):\n",
    "        query='''\n",
    "                LOAD CSV WITH HEADERS FROM \"file:///'''+CSV_SUB_DIR+'''/rel_parent.csv\" AS row\n",
    "                CREATE (z1:ZONE {name:row.name})-[:PARENT]->(z2:ZONE {name:row.dependency_id})\n",
    "                RETURN count(z1)''';\n",
    "        return self.query(query);\n",
    "    def load_rel_mapped_in_csv(self): \n",
    "        query='''\n",
    "                LOAD CSV WITH HEADERS FROM \"file:///'''+CSV_SUB_DIR+'''/rel_mapped_in.csv\" AS row\n",
    "                CREATE (md:MAIL_DOMAIN {name:row.md_name})-[:MAPPED_IN]->(ms:MAIL_SERVER {name:row.ms_name})\n",
    "                RETURN count(md)''';\n",
    "        return self.query(query);\n",
    "\n",
    "    def load_rel_mapped_in_csv_old(self):\n",
    "        query='''\n",
    "                LOAD CSV WITH HEADERS FROM \"file:///'''+CSV_SUB_DIR+'''/rel_mapped_in.csv\" AS row\n",
    "                MATCH (md:MAIL_DOMAIN {name:row.md_name})\n",
    "                MATCH (ms:MAIL_SERVER {name:row.ms_name})\n",
    "                MERGE (md)-[:MAPPED_IN]->(ms)\n",
    "                RETURN count(md)''';\n",
    "        return self.query(query);"
   ]
  },
  {
   "cell_type": "code",
   "execution_count": 4,
   "metadata": {},
   "outputs": [],
   "source": [
    "connector=NeoConnector(uri=DATABASE_URI,user=USER,pwd=PASSWORD);\n",
    "connector.query(\"MATCH (n) DETACH DELETE n\"); #Delete DB content"
   ]
  },
  {
   "cell_type": "markdown",
   "metadata": {},
   "source": [
    "Export entities. Functions are called in different blocks to provide an effective indication of which functions are slower then the others:"
   ]
  },
  {
   "cell_type": "code",
   "execution_count": 5,
   "metadata": {},
   "outputs": [],
   "source": [
    "#NODES: WEBSITE, LANDING_NAME, NETWORK\n",
    "connector.load_node_web_site_csv();\n",
    "connector.load_node_landing_name_csv();\n",
    "connector.load_node_network_csv();"
   ]
  },
  {
   "cell_type": "code",
   "execution_count": 6,
   "metadata": {},
   "outputs": [],
   "source": [
    "#NODES: ZONE, NAME_SERVER, AUTONOMOUS_SYSTEM\n",
    "connector.load_node_zone_csv();\n",
    "connector.load_node_name_server_csv();\n",
    "connector.load_node_aut_sys_csv();"
   ]
  },
  {
   "cell_type": "code",
   "execution_count": 7,
   "metadata": {},
   "outputs": [],
   "source": [
    "#NODES: MAIL_DOMAIN, MAIL_SERVER\n",
    "connector.load_node_mail_domain_csv();\n",
    "connector.load_node_mail_server_csv();"
   ]
  },
  {
   "cell_type": "code",
   "execution_count": 8,
   "metadata": {},
   "outputs": [],
   "source": [
    "#RELATIONSHIPS: LAND, CNAME, LOCATED\n",
    "connector.load_rel_land_csv();\n",
    "connector.load_rel_cname_ln_csv();\n",
    "connector.load_rel_located_ln_csv();"
   ]
  },
  {
   "cell_type": "code",
   "execution_count": 9,
   "metadata": {},
   "outputs": [],
   "source": [
    "#RELATIONSHIPS: BELONG LN -> ZONE\n",
    "connector.load_rel_belong_ln_csv();"
   ]
  },
  {
   "cell_type": "code",
   "execution_count": 10,
   "metadata": {},
   "outputs": [],
   "source": [
    "#RELATIONSHIPS: BELONG NS -> ZONE\n",
    "connector.load_rel_belong_ns_csv();"
   ]
  },
  {
   "cell_type": "code",
   "execution_count": 11,
   "metadata": {},
   "outputs": [],
   "source": [
    "#RELATIONSHIPS: LOCATED NS -> NETWORK\n",
    "connector.load_rel_located_ns_csv();"
   ]
  },
  {
   "cell_type": "code",
   "execution_count": 12,
   "metadata": {},
   "outputs": [],
   "source": [
    "#RELATIONSHIPS: CNAME NS -> NS\n",
    "connector.load_rel_cname_ns_csv();"
   ]
  },
  {
   "cell_type": "code",
   "execution_count": 13,
   "metadata": {},
   "outputs": [],
   "source": [
    "#RELATIONSHIPS: COMPOSED_BY, DEPEND, PARENT\n",
    "connector.load_rel_composed_by_csv();\n",
    "connector.load_rel_parent_csv();\n",
    "\n",
    "#connector.load_rel_depend_csv(); #DEPEND relationship is not imported anymore.\n"
   ]
  },
  {
   "cell_type": "code",
   "execution_count": 14,
   "metadata": {},
   "outputs": [],
   "source": [
    "\n",
    "#RELATIONSHIPS: BELONG MS -> ZONE\n",
    "connector.load_rel_belong_ms_csv();"
   ]
  },
  {
   "cell_type": "code",
   "execution_count": 15,
   "metadata": {},
   "outputs": [],
   "source": [
    "#RELATIONSHIPS: BELONG MD -> ZONE\n",
    "connector.load_rel_belong_md_csv();"
   ]
  },
  {
   "cell_type": "code",
   "execution_count": 16,
   "metadata": {},
   "outputs": [],
   "source": [
    "#RELATIONSHIPS: LOCATED MS -> NETWORK\n",
    "connector.load_rel_located_ms_csv();"
   ]
  },
  {
   "cell_type": "code",
   "execution_count": 17,
   "metadata": {},
   "outputs": [],
   "source": [
    "#RELATIONSHIPS: MANAGED_BY\n",
    "connector.load_rel_managed_csv();"
   ]
  },
  {
   "cell_type": "code",
   "execution_count": 18,
   "metadata": {},
   "outputs": [],
   "source": [
    "#RELATIONSHIPS: CNAME MS -> MS\n",
    "connector.load_rel_cname_ms_csv();"
   ]
  },
  {
   "cell_type": "code",
   "execution_count": 19,
   "metadata": {},
   "outputs": [],
   "source": [
    "#RELATIONSHIPS: MAPPED_IN\n",
    "connector.load_rel_mapped_in_csv();"
   ]
  },
  {
   "cell_type": "markdown",
   "metadata": {},
   "source": [
    "In order to speed up the queries above, some duplicates have been created. Let's refactor graph by eliminating node duplicates:"
   ]
  },
  {
   "cell_type": "code",
   "execution_count": 20,
   "metadata": {},
   "outputs": [
    {
     "data": {
      "text/plain": [
       "[]"
      ]
     },
     "execution_count": 20,
     "metadata": {},
     "output_type": "execute_result"
    }
   ],
   "source": [
    "connector.query(\"MATCH (n:NAME_SERVER) WITH n.name AS name, COLLECT(n) AS nodelist, COUNT(*) AS count WHERE count>1 CALL apoc.refactor.mergeNodes(nodelist) YIELD node RETURN node\");\n",
    "connector.query(\"MATCH (n:ZONE) WITH n.name AS name, COLLECT(n) AS nodelist, COUNT(*) AS count WHERE count > 1 CALL apoc.refactor.mergeNodes(nodelist) YIELD node RETURN node\");\n",
    "connector.query(\"MATCH (n:NETWORK) WITH n.name AS name, COLLECT(n) AS nodelist, COUNT(*) AS count WHERE count > 1 CALL apoc.refactor.mergeNodes(nodelist) YIELD node RETURN node\");\n",
    "connector.query(\"MATCH (n:AUTONOMOUS_SYSTEM) WITH n.name AS name, COLLECT(n) AS nodelist, COUNT(*) AS count WHERE count > 1 CALL apoc.refactor.mergeNodes(nodelist) YIELD node RETURN node\");\n",
    "connector.query(\"MATCH (n:MAIL_DOMAIN) WITH n.name AS name, COLLECT(n) AS nodelist, COUNT(*) AS count WHERE count > 1 CALL apoc.refactor.mergeNodes(nodelist) YIELD node RETURN node\");\n",
    "connector.query(\"MATCH (n:MAIL_SERVER) WITH n.name AS name, COLLECT(n) AS nodelist, COUNT(*) AS count WHERE count > 1 CALL apoc.refactor.mergeNodes(nodelist) YIELD node RETURN node\");\n",
    "connector.query(\"MATCH (n:NETWORK)-[r:MANAGED_BY]->(q:AUTONOMOUS_SYSTEM) WITH n.name AS name, COLLECT(r) AS relist, COUNT(*) AS count WHERE count > 1 CALL apoc.refactor.mergeRelationships(relist) YIELD rel RETURN rel\");\n",
    "connector.query(\"MATCH (n:WEB_SERVER) WITH n.name AS name, COLLECT(n) AS nodelist, COUNT(*) AS count WHERE count > 1 CALL apoc.refactor.mergeNodes(nodelist) YIELD node RETURN node\");\n",
    "connector.query(\"MATCH (n:ZONE) WHERE NOT EXISTS(n.name) DETACH DELETE n\")"
   ]
  },
  {
   "cell_type": "markdown",
   "metadata": {},
   "source": [
    "21/06 - Modification required for the \"LANDING NAME to WEB_SERVER\" change."
   ]
  },
  {
   "cell_type": "code",
   "execution_count": 21,
   "metadata": {},
   "outputs": [
    {
     "data": {
      "text/plain": [
       "[<Record count(ws)=0>]"
      ]
     },
     "execution_count": 21,
     "metadata": {},
     "output_type": "execute_result"
    }
   ],
   "source": [
    "connector.query(\"MATCH (ws:WEB_SERVER) REMOVE ws.landing_https REMOVE ws.landing_url RETURN count(ws)\");"
   ]
  }
 ],
 "metadata": {
  "interpreter": {
   "hash": "369f2c481f4da34e4445cda3fffd2e751bd1c4d706f27375911949ba6bb62e1c"
  },
  "kernelspec": {
   "display_name": "Python 3.10.1 64-bit",
   "language": "python",
   "name": "python3"
  },
  "language_info": {
   "codemirror_mode": {
    "name": "ipython",
    "version": 3
   },
   "file_extension": ".py",
   "mimetype": "text/x-python",
   "name": "python",
   "nbconvert_exporter": "python",
   "pygments_lexer": "ipython3",
   "version": "3.10.1"
  },
  "orig_nbformat": 4
 },
 "nbformat": 4,
 "nbformat_minor": 2
}
